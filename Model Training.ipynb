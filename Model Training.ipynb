{
 "cells": [
  {
   "cell_type": "markdown",
   "metadata": {},
   "source": [
    "# Gesture Recognition\n",
    "In this group project, you are going to build a 3D Conv model that will be able to predict the 5 gestures correctly. Please import the following libraries to get started."
   ]
  },
  {
   "cell_type": "code",
   "execution_count": 1,
   "metadata": {},
   "outputs": [],
   "source": [
    "# Importing required libraries\n",
    "import numpy as np\n",
    "import os\n",
    "import scipy\n",
    "from scipy.misc import imread, imresize\n",
    "import datetime\n",
    "import os\n",
    "import math\n",
    "import matplotlib.pyplot as plt\n",
    "\n",
    "# Suppressing Warnings\n",
    "import warnings\n",
    "warnings.filterwarnings('ignore')"
   ]
  },
  {
   "cell_type": "markdown",
   "metadata": {},
   "source": [
    "We set the random seed so that the results don't vary drastically."
   ]
  },
  {
   "cell_type": "code",
   "execution_count": 2,
   "metadata": {},
   "outputs": [
    {
     "name": "stderr",
     "output_type": "stream",
     "text": [
      "Using TensorFlow backend.\n"
     ]
    }
   ],
   "source": [
    "np.random.seed(30)\n",
    "import random as rn\n",
    "rn.seed(30)\n",
    "from keras import backend as K\n",
    "import tensorflow as tf\n",
    "tf.set_random_seed(30)"
   ]
  },
  {
   "cell_type": "markdown",
   "metadata": {},
   "source": [
    "In this block, you read the folder names for training and validation. You also set the `batch_size` here. Note that you set the batch size in such a way that you are able to use the GPU in full capacity. You keep increasing the batch size until the machine throws an error."
   ]
  },
  {
   "cell_type": "code",
   "execution_count": 3,
   "metadata": {},
   "outputs": [],
   "source": [
    "train_doc = np.random.permutation(open('Project_data/train.csv').readlines())\n",
    "val_doc = np.random.permutation(open('Project_data/val.csv').readlines())\n",
    "batch_size = 10 #experiment with the batch size"
   ]
  },
  {
   "cell_type": "markdown",
   "metadata": {},
   "source": [
    "## Generator\n",
    "This is one of the most important part of the code. The overall structure of the generator has been given. In the generator, you are going to preprocess the images as you have images of 2 different dimensions as well as create a batch of video frames. You have to experiment with `img_idx`, `y`,`z` and normalization such that you get high accuracy."
   ]
  },
  {
   "cell_type": "code",
   "execution_count": 4,
   "metadata": {},
   "outputs": [],
   "source": [
    "def generator(source_path, folder_list, batch_size):\n",
    "    print( 'Source path = ', source_path, '; batch size =', batch_size)\n",
    "    img_idx =  [1,3,5,7,9,11,13,15,16,18,20,21,23,25,27,29]#create a list of image numbers you want to use for a particular video\n",
    "    while True:\n",
    "        t = np.random.permutation(folder_list)\n",
    "        num_batches = math.floor(len(t) / batch_size)# calculate the number of batches\n",
    "        for batch in range(num_batches): # we iterate over the number of batches\n",
    "            batch_data = np.zeros((batch_size,len(img_idx),126,126,3)) # x is the number of images you use for each video, (y,z) is the final size of the input images and 3 is the number of channels RGB\n",
    "            batch_labels = np.zeros((batch_size,5)) # batch_labels is the one hot representation of the output\n",
    "            for folder in range(batch_size): # iterate over the batch_size\n",
    "                imgs = os.listdir(source_path+'/'+ t[folder + (batch*batch_size)].split(';')[0]) # read all the images in the folder\n",
    "                for idx,item in enumerate(img_idx): #  Iterate iver the frames/images of a folder to read them in\n",
    "                    image = imread(source_path+'/'+ t[folder + (batch*batch_size)].strip().split(';')[0]+'/'+imgs[item]).astype(np.float32)\n",
    "                    \n",
    "                    #crop the images and resize them. Note that the images are of 2 different shape \n",
    "                    #and the conv3D will throw error if the inputs in a batch have different shapes\n",
    "                    \n",
    "                    image = imresize(image, (126,126))\n",
    "                    batch_data[folder,idx,:,:,0] = image[:,:,0] / 255.0 #normalise and feed in the image\n",
    "                    batch_data[folder,idx,:,:,1] = image[:,:,1] / 255.0 #normalise and feed in the image\n",
    "                    batch_data[folder,idx,:,:,2] = image[:,:,2] / 255.0 #normalise and feed in the image\n",
    "                    \n",
    "                batch_labels[folder, int(t[folder + (batch*batch_size)].strip().split(';')[2])] = 1\n",
    "            yield batch_data, batch_labels #you yield the batch_data and the batch_labels, remember what does yield do\n",
    "        \n",
    "        # write the code for the remaining data points which are left after full batches\n",
    "\n",
    "        batch_size_rem = len(folder_list) % batch_size\n",
    "        if (batch_size_rem!=0):\n",
    "            batch_data = np.zeros((batch_size_rem,len(img_idx),126,126,3)) \n",
    "            batch_labels = np.zeros((batch_size_rem,5)) \n",
    "            for folder in range(batch_size_rem):\n",
    "                imgs = os.listdir(source_path+'/'+ t[folder + (batch_size_rem)].split(';')[0]) \n",
    "                for idx,item in enumerate(img_idx): \n",
    "                    image = imread(source_path+'/'+ t[folder + (batch_size_rem)].strip().split(';')[0]+'/'+imgs[item]).astype(np.float32)\n",
    "                    \n",
    "                    \n",
    "                    sized_img=imresize(image,(126,126))\n",
    "                    \n",
    "                    batch_data[folder,idx,:,:,0] = (sized_img[:,:,0]) / 255.0  \n",
    "                    batch_data[folder,idx,:,:,1] = (sized_img[:,:,1]) / 255.0  \n",
    "                    batch_data[folder,idx,:,:,2] = (sized_img[:,:,2]) / 255.0  \n",
    "                    \n",
    "                batch_labels[folder, int(t[folder + (batch_size_rem)].strip().split(';')[2])] = 1\n",
    "            yield batch_data, batch_labels \n",
    "        "
   ]
  },
  {
   "cell_type": "markdown",
   "metadata": {},
   "source": [
    "Note here that a video is represented above in the generator as (number of images, height, width, number of channels). Take this into consideration while creating the model architecture."
   ]
  },
  {
   "cell_type": "code",
   "execution_count": 5,
   "metadata": {},
   "outputs": [
    {
     "name": "stdout",
     "output_type": "stream",
     "text": [
      "# training sequences = 663\n",
      "# validation sequences = 100\n",
      "# epochs = 30\n"
     ]
    }
   ],
   "source": [
    "curr_dt_time = datetime.datetime.now()\n",
    "train_path = 'Project_data/train'\n",
    "val_path = 'Project_data/val'\n",
    "num_train_sequences = len(train_doc)\n",
    "print('# training sequences =', num_train_sequences)\n",
    "num_val_sequences = len(val_doc)\n",
    "print('# validation sequences =', num_val_sequences)\n",
    "num_epochs = 30 # choose the number of epochs\n",
    "print ('# epochs =', num_epochs)"
   ]
  },
  {
   "cell_type": "markdown",
   "metadata": {},
   "source": [
    "## Model\n",
    "Here you make the model using different functionalities that Keras provides. Remember to use `Conv3D` and `MaxPooling3D` and not `Conv2D` and `Maxpooling2D` for a 3D convolution model. You would want to use `TimeDistributed` while building a Conv2D + RNN model. Also remember that the last layer is the softmax. Design the network in such a way that the model is able to give good accuracy on the least number of parameters so that it can fit in the memory of the webcam."
   ]
  },
  {
   "cell_type": "code",
   "execution_count": 11,
   "metadata": {},
   "outputs": [
    {
     "name": "stdout",
     "output_type": "stream",
     "text": [
      "Downloading data from https://github.com/fchollet/deep-learning-models/releases/download/v0.6/mobilenet_1_0_224_tf_no_top.h5\n",
      "17227776/17225924 [==============================] - 2s 0us/step\n"
     ]
    }
   ],
   "source": [
    "from keras.models import Sequential, Model\n",
    "from keras.layers import Dense, GRU, Flatten, TimeDistributed, Flatten, BatchNormalization, Activation, Dropout,LSTM\n",
    "from keras.layers.convolutional import Conv3D, MaxPooling3D, Conv2D, MaxPooling2D\n",
    "from keras.callbacks import ModelCheckpoint, ReduceLROnPlateau\n",
    "from keras import optimizers\n",
    "from keras.applications import mobilenet     #Importing the package for imagenet model\n",
    "\n",
    "#Creating an imagenet model object\n",
    "mobilenet_transfer = mobilenet.MobileNet(weights = 'imagenet', include_top = False)\n",
    "\n",
    "#Adding the main model object and model layers\n",
    "model = Sequential()\n",
    "model.add(TimeDistributed(mobilenet_transfer, input_shape = (16,126,126,3)))\n",
    "\n",
    "model.add(TimeDistributed(BatchNormalization()))\n",
    "model.add(TimeDistributed(MaxPooling2D(pool_size=(2,2))))\n",
    "model.add(TimeDistributed(Dropout(0.50)))\n",
    "model.add(TimeDistributed(Flatten()))\n",
    "\n",
    "model.add(GRU(128))\n",
    "model.add(Dropout(0.25))\n",
    "model.add(Dense(128))\n",
    "model.add(Activation('relu'))\n",
    "\n",
    "#Adding the output layer\n",
    "model.add(Dense(5))                  \n",
    "model.add(Activation('softmax'))"
   ]
  },
  {
   "cell_type": "markdown",
   "metadata": {},
   "source": [
    "Now that you have written the model, the next step is to `compile` the model. When you print the `summary` of the model, you'll see the total number of parameters you have to train."
   ]
  },
  {
   "cell_type": "code",
   "execution_count": 12,
   "metadata": {
    "scrolled": false
   },
   "outputs": [
    {
     "name": "stdout",
     "output_type": "stream",
     "text": [
      "_________________________________________________________________\n",
      "Layer (type)                 Output Shape              Param #   \n",
      "=================================================================\n",
      "time_distributed_1 (TimeDist (None, 16, 3, 3, 1024)    3228864   \n",
      "_________________________________________________________________\n",
      "time_distributed_2 (TimeDist (None, 16, 3, 3, 1024)    4096      \n",
      "_________________________________________________________________\n",
      "time_distributed_3 (TimeDist (None, 16, 1, 1, 1024)    0         \n",
      "_________________________________________________________________\n",
      "time_distributed_4 (TimeDist (None, 16, 1, 1, 1024)    0         \n",
      "_________________________________________________________________\n",
      "time_distributed_5 (TimeDist (None, 16, 1024)          0         \n",
      "_________________________________________________________________\n",
      "gru_1 (GRU)                  (None, 128)               442752    \n",
      "_________________________________________________________________\n",
      "dropout_2 (Dropout)          (None, 128)               0         \n",
      "_________________________________________________________________\n",
      "dense_1 (Dense)              (None, 128)               16512     \n",
      "_________________________________________________________________\n",
      "activation_1 (Activation)    (None, 128)               0         \n",
      "_________________________________________________________________\n",
      "dense_2 (Dense)              (None, 5)                 645       \n",
      "_________________________________________________________________\n",
      "activation_2 (Activation)    (None, 5)                 0         \n",
      "=================================================================\n",
      "Total params: 3,692,869\n",
      "Trainable params: 3,668,933\n",
      "Non-trainable params: 23,936\n",
      "_________________________________________________________________\n",
      "None\n"
     ]
    }
   ],
   "source": [
    "optimiser = 'adam'  #write your optimizer\n",
    "model.compile(optimizer=optimiser, loss='categorical_crossentropy', metrics=['categorical_accuracy'])\n",
    "print (model.summary())"
   ]
  },
  {
   "cell_type": "markdown",
   "metadata": {},
   "source": [
    "Let us create the `train_generator` and the `val_generator` which will be used in `.fit_generator`."
   ]
  },
  {
   "cell_type": "code",
   "execution_count": 13,
   "metadata": {},
   "outputs": [],
   "source": [
    "train_generator = generator(train_path, train_doc, batch_size)\n",
    "val_generator = generator(val_path, val_doc, batch_size)"
   ]
  },
  {
   "cell_type": "code",
   "execution_count": 14,
   "metadata": {},
   "outputs": [],
   "source": [
    "model_name = 'model_init' + '_' + str(curr_dt_time).replace(' ','').replace(':','_') + '/'\n",
    "    \n",
    "if not os.path.exists(model_name):\n",
    "    os.mkdir(model_name)\n",
    "        \n",
    "filepath = model_name + 'model-{epoch:05d}-{loss:.5f}-{categorical_accuracy:.5f}-{val_loss:.5f}-{val_categorical_accuracy:.5f}.h5'\n",
    "\n",
    "checkpoint = ModelCheckpoint(filepath, monitor='val_loss', verbose=1, save_best_only=False, save_weights_only=False, mode='auto', period=1)\n",
    "\n",
    "LR = ReduceLROnPlateau(monitor='val_loss', factor=0.15, patience=8, min_lr=0.001)  # write the REducelronplateau code here\n",
    "callbacks_list = [checkpoint, LR]"
   ]
  },
  {
   "cell_type": "markdown",
   "metadata": {},
   "source": [
    "The `steps_per_epoch` and `validation_steps` are used by `fit_generator` to decide the number of next() calls it need to make."
   ]
  },
  {
   "cell_type": "code",
   "execution_count": 15,
   "metadata": {},
   "outputs": [],
   "source": [
    "if (num_train_sequences%batch_size) == 0:\n",
    "    steps_per_epoch = int(num_train_sequences/batch_size)\n",
    "else:\n",
    "    steps_per_epoch = (num_train_sequences//batch_size) + 1\n",
    "\n",
    "if (num_val_sequences%batch_size) == 0:\n",
    "    validation_steps = int(num_val_sequences/batch_size)\n",
    "else:\n",
    "    validation_steps = (num_val_sequences//batch_size) + 1"
   ]
  },
  {
   "cell_type": "markdown",
   "metadata": {},
   "source": [
    "Let us now fit the model. This will start training the model and with the help of the checkpoints, you'll be able to save the model at the end of each epoch."
   ]
  },
  {
   "cell_type": "code",
   "execution_count": 16,
   "metadata": {
    "scrolled": false
   },
   "outputs": [
    {
     "name": "stdout",
     "output_type": "stream",
     "text": [
      "Source path =  Project_data/val ; batch size = 10\n",
      "Source path =  Project_data/train ; batch size = 10\n",
      "Epoch 1/30\n",
      "67/67 [==============================] - 134s 2s/step - loss: 1.1835 - categorical_accuracy: 0.5193 - val_loss: 0.8756 - val_categorical_accuracy: 0.6100\n",
      "\n",
      "Epoch 00001: saving model to model_init_2020-07-1314_08_50.630042/model-00001-1.19144-0.51433-0.87556-0.61000.h5\n",
      "Epoch 2/30\n",
      "67/67 [==============================] - 41s 618ms/step - loss: 0.6824 - categorical_accuracy: 0.7074 - val_loss: 0.6675 - val_categorical_accuracy: 0.6700\n",
      "\n",
      "Epoch 00002: saving model to model_init_2020-07-1314_08_50.630042/model-00002-0.68655-0.70437-0.66748-0.67000.h5\n",
      "Epoch 3/30\n",
      "67/67 [==============================] - 42s 623ms/step - loss: 0.4746 - categorical_accuracy: 0.7980 - val_loss: 0.5189 - val_categorical_accuracy: 0.7800\n",
      "\n",
      "Epoch 00003: saving model to model_init_2020-07-1314_08_50.630042/model-00003-0.47208-0.79940-0.51890-0.78000.h5\n",
      "Epoch 4/30\n",
      "67/67 [==============================] - 43s 642ms/step - loss: 0.3822 - categorical_accuracy: 0.8643 - val_loss: 1.4619 - val_categorical_accuracy: 0.5500\n",
      "\n",
      "Epoch 00004: saving model to model_init_2020-07-1314_08_50.630042/model-00004-0.35679-0.87330-1.46192-0.55000.h5\n",
      "Epoch 5/30\n",
      "67/67 [==============================] - 42s 627ms/step - loss: 0.3034 - categorical_accuracy: 0.8955 - val_loss: 0.9639 - val_categorical_accuracy: 0.7200\n",
      "\n",
      "Epoch 00005: saving model to model_init_2020-07-1314_08_50.630042/model-00005-0.30639-0.89442-0.96389-0.72000.h5\n",
      "Epoch 6/30\n",
      "67/67 [==============================] - 43s 648ms/step - loss: 0.3418 - categorical_accuracy: 0.8677 - val_loss: 0.3398 - val_categorical_accuracy: 0.9000\n",
      "\n",
      "Epoch 00006: saving model to model_init_2020-07-1314_08_50.630042/model-00006-0.33765-0.87330-0.33979-0.90000.h5\n",
      "Epoch 7/30\n",
      "67/67 [==============================] - 43s 634ms/step - loss: 0.2987 - categorical_accuracy: 0.8921 - val_loss: 0.3419 - val_categorical_accuracy: 0.8800\n",
      "\n",
      "Epoch 00007: saving model to model_init_2020-07-1314_08_50.630042/model-00007-0.29496-0.89442-0.34195-0.88000.h5\n",
      "Epoch 8/30\n",
      "67/67 [==============================] - 41s 619ms/step - loss: 0.2215 - categorical_accuracy: 0.9264 - val_loss: 0.3202 - val_categorical_accuracy: 0.8700\n",
      "\n",
      "Epoch 00008: saving model to model_init_2020-07-1314_08_50.630042/model-00008-0.21333-0.92911-0.32023-0.87000.h5\n",
      "Epoch 9/30\n",
      "67/67 [==============================] - 41s 618ms/step - loss: 0.2375 - categorical_accuracy: 0.9170 - val_loss: 0.3137 - val_categorical_accuracy: 0.8700\n",
      "\n",
      "Epoch 00009: saving model to model_init_2020-07-1314_08_50.630042/model-00009-0.22589-0.92308-0.31367-0.87000.h5\n",
      "Epoch 10/30\n",
      "67/67 [==============================] - 42s 630ms/step - loss: 0.1976 - categorical_accuracy: 0.9413 - val_loss: 0.9227 - val_categorical_accuracy: 0.7500\n",
      "\n",
      "Epoch 00010: saving model to model_init_2020-07-1314_08_50.630042/model-00010-0.19060-0.94419-0.92269-0.75000.h5\n",
      "Epoch 11/30\n",
      "67/67 [==============================] - 42s 625ms/step - loss: 0.1282 - categorical_accuracy: 0.9612 - val_loss: 0.3208 - val_categorical_accuracy: 0.8800\n",
      "\n",
      "Epoch 00011: saving model to model_init_2020-07-1314_08_50.630042/model-00011-0.12917-0.96078-0.32081-0.88000.h5\n",
      "Epoch 12/30\n",
      "67/67 [==============================] - 42s 629ms/step - loss: 0.0964 - categorical_accuracy: 0.9597 - val_loss: 0.1549 - val_categorical_accuracy: 0.9700\n",
      "\n",
      "Epoch 00012: saving model to model_init_2020-07-1314_08_50.630042/model-00012-0.09730-0.95928-0.15493-0.97000.h5\n",
      "Epoch 13/30\n",
      "67/67 [==============================] - 42s 629ms/step - loss: 0.0818 - categorical_accuracy: 0.9667 - val_loss: 0.2028 - val_categorical_accuracy: 0.9100\n",
      "\n",
      "Epoch 00013: saving model to model_init_2020-07-1314_08_50.630042/model-00013-0.07874-0.96983-0.20279-0.91000.h5\n",
      "Epoch 14/30\n",
      "67/67 [==============================] - 42s 629ms/step - loss: 0.1153 - categorical_accuracy: 0.9627 - val_loss: 0.7827 - val_categorical_accuracy: 0.8200\n",
      "\n",
      "Epoch 00014: saving model to model_init_2020-07-1314_08_50.630042/model-00014-0.11407-0.96229-0.78268-0.82000.h5\n",
      "Epoch 15/30\n",
      "67/67 [==============================] - 43s 644ms/step - loss: 0.2884 - categorical_accuracy: 0.9104 - val_loss: 0.4594 - val_categorical_accuracy: 0.8200\n",
      "\n",
      "Epoch 00015: saving model to model_init_2020-07-1314_08_50.630042/model-00015-0.28837-0.90950-0.45941-0.82000.h5\n",
      "Epoch 16/30\n",
      "67/67 [==============================] - 42s 629ms/step - loss: 0.1618 - categorical_accuracy: 0.9463 - val_loss: 0.3023 - val_categorical_accuracy: 0.9100\n",
      "\n",
      "Epoch 00016: saving model to model_init_2020-07-1314_08_50.630042/model-00016-0.16296-0.94570-0.30226-0.91000.h5\n",
      "Epoch 17/30\n",
      "67/67 [==============================] - 42s 622ms/step - loss: 0.1006 - categorical_accuracy: 0.9701 - val_loss: 0.1965 - val_categorical_accuracy: 0.9600\n",
      "\n",
      "Epoch 00017: saving model to model_init_2020-07-1314_08_50.630042/model-00017-0.10132-0.96983-0.19654-0.96000.h5\n",
      "Epoch 18/30\n",
      "67/67 [==============================] - 42s 633ms/step - loss: 0.0505 - categorical_accuracy: 0.9836 - val_loss: 0.2060 - val_categorical_accuracy: 0.9500\n",
      "\n",
      "Epoch 00018: saving model to model_init_2020-07-1314_08_50.630042/model-00018-0.05087-0.98341-0.20602-0.95000.h5\n",
      "Epoch 19/30\n",
      "67/67 [==============================] - 42s 625ms/step - loss: 0.1228 - categorical_accuracy: 0.9746 - val_loss: 0.3614 - val_categorical_accuracy: 0.8900\n",
      "\n",
      "Epoch 00019: saving model to model_init_2020-07-1314_08_50.630042/model-00019-0.12401-0.97436-0.36136-0.89000.h5\n",
      "Epoch 20/30\n",
      "67/67 [==============================] - 42s 626ms/step - loss: 0.0970 - categorical_accuracy: 0.9761 - val_loss: 0.3567 - val_categorical_accuracy: 0.8700\n",
      "\n",
      "Epoch 00020: saving model to model_init_2020-07-1314_08_50.630042/model-00020-0.09788-0.97587-0.35668-0.87000.h5\n",
      "Epoch 21/30\n",
      "67/67 [==============================] - 42s 621ms/step - loss: 0.1543 - categorical_accuracy: 0.9418 - val_loss: 0.5517 - val_categorical_accuracy: 0.8800\n",
      "\n",
      "Epoch 00021: saving model to model_init_2020-07-1314_08_50.630042/model-00021-0.15581-0.94118-0.55173-0.88000.h5\n",
      "Epoch 22/30\n",
      "67/67 [==============================] - 42s 628ms/step - loss: 0.0205 - categorical_accuracy: 0.9940 - val_loss: 0.4466 - val_categorical_accuracy: 0.8700\n",
      "\n",
      "Epoch 00022: saving model to model_init_2020-07-1314_08_50.630042/model-00022-0.02070-0.99397-0.44657-0.87000.h5\n",
      "Epoch 23/30\n",
      "67/67 [==============================] - 42s 631ms/step - loss: 0.0920 - categorical_accuracy: 0.9757 - val_loss: 0.3811 - val_categorical_accuracy: 0.8600\n",
      "\n",
      "Epoch 00023: saving model to model_init_2020-07-1314_08_50.630042/model-00023-0.07881-0.97888-0.38105-0.86000.h5\n",
      "Epoch 24/30\n",
      "67/67 [==============================] - 42s 631ms/step - loss: 0.1329 - categorical_accuracy: 0.9567 - val_loss: 0.5403 - val_categorical_accuracy: 0.8300\n",
      "\n",
      "Epoch 00024: saving model to model_init_2020-07-1314_08_50.630042/model-00024-0.13428-0.95626-0.54027-0.83000.h5\n",
      "Epoch 25/30\n",
      "67/67 [==============================] - 42s 634ms/step - loss: 0.1082 - categorical_accuracy: 0.9597 - val_loss: 0.3197 - val_categorical_accuracy: 0.9200\n",
      "\n",
      "Epoch 00025: saving model to model_init_2020-07-1314_08_50.630042/model-00025-0.10929-0.95928-0.31973-0.92000.h5\n",
      "Epoch 26/30\n",
      "67/67 [==============================] - 42s 634ms/step - loss: 0.0920 - categorical_accuracy: 0.9701 - val_loss: 0.3638 - val_categorical_accuracy: 0.8800\n",
      "\n",
      "Epoch 00026: saving model to model_init_2020-07-1314_08_50.630042/model-00026-0.09291-0.96983-0.36378-0.88000.h5\n",
      "Epoch 27/30\n",
      "67/67 [==============================] - 42s 626ms/step - loss: 0.1298 - categorical_accuracy: 0.9522 - val_loss: 0.2666 - val_categorical_accuracy: 0.9400\n",
      "\n",
      "Epoch 00027: saving model to model_init_2020-07-1314_08_50.630042/model-00027-0.13108-0.95173-0.26657-0.94000.h5\n",
      "Epoch 28/30\n",
      "67/67 [==============================] - 43s 640ms/step - loss: 0.0817 - categorical_accuracy: 0.9776 - val_loss: 0.4771 - val_categorical_accuracy: 0.8100\n",
      "\n",
      "Epoch 00028: saving model to model_init_2020-07-1314_08_50.630042/model-00028-0.08135-0.97738-0.47712-0.81000.h5\n",
      "Epoch 29/30\n",
      "67/67 [==============================] - 42s 622ms/step - loss: 0.0809 - categorical_accuracy: 0.9731 - val_loss: 0.7883 - val_categorical_accuracy: 0.8200\n",
      "\n",
      "Epoch 00029: saving model to model_init_2020-07-1314_08_50.630042/model-00029-0.07919-0.97285-0.78832-0.82000.h5\n"
     ]
    },
    {
     "name": "stdout",
     "output_type": "stream",
     "text": [
      "Epoch 30/30\n",
      "67/67 [==============================] - 43s 635ms/step - loss: 0.1026 - categorical_accuracy: 0.9687 - val_loss: 0.1811 - val_categorical_accuracy: 0.9400\n",
      "\n",
      "Epoch 00030: saving model to model_init_2020-07-1314_08_50.630042/model-00030-0.10133-0.96833-0.18106-0.94000.h5\n"
     ]
    }
   ],
   "source": [
    "history = model.fit_generator(train_generator, steps_per_epoch=steps_per_epoch, epochs=num_epochs, verbose=1, \n",
    "                    callbacks=callbacks_list, validation_data=val_generator, \n",
    "                    validation_steps=validation_steps, class_weight=None, workers=1, initial_epoch=0)"
   ]
  },
  {
   "cell_type": "code",
   "execution_count": 18,
   "metadata": {},
   "outputs": [
    {
     "data": {
      "image/png": "[encoded data removed]",
      "text/plain": [
       "<Figure size 432x288 with 1 Axes>"
      ]
     },
     "metadata": {},
     "output_type": "display_data"
    },
    {
     "data": {
      "image/png": "[encoded data removed]",
      "text/plain": [
       "<Figure size 432x288 with 1 Axes>"
      ]
     },
     "metadata": {},
     "output_type": "display_data"
    }
   ],
   "source": [
    "# summarize history for accuracy\n",
    "plt.subplot(121)\n",
    "plt.plot(history.history['categorical_accuracy'])\n",
    "plt.plot(history.history['val_categorical_accuracy'])\n",
    "plt.title('model accuracy')\n",
    "plt.ylabel('accuracy')\n",
    "plt.xlabel('epoch')\n",
    "plt.legend(['train', 'test'], loc='upper left')\n",
    "plt.show()\n",
    "\n",
    "\n",
    "# summarize history for loss\n",
    "plt.subplot(122)\n",
    "plt.plot(history.history['loss'])\n",
    "plt.plot(history.history['val_loss'])\n",
    "plt.title('model loss')\n",
    "plt.ylabel('loss')\n",
    "plt.xlabel('epoch')\n",
    "plt.legend(['train', 'test'], loc='upper left')\n",
    "plt.show()"
   ]
  }
 ],
 "metadata": {
  "kernelspec": {
   "display_name": "Python 3",
   "language": "python",
   "name": "python3"
  },
  "language_info": {
   "codemirror_mode": {
    "name": "ipython",
    "version": 3
   },
   "file_extension": ".py",
   "mimetype": "text/x-python",
   "name": "python",
   "nbconvert_exporter": "python",
   "pygments_lexer": "ipython3",
   "version": "3.7.3"
  }
 },
 "nbformat": 4,
 "nbformat_minor": 2
}
